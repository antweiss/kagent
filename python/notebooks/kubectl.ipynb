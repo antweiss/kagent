{
 "cells": [
  {
   "cell_type": "code",
   "execution_count": 1,
   "metadata": {},
   "outputs": [
    {
     "name": "stdout",
     "output_type": "stream",
     "text": [
      "---------- user ----------\n",
      "get all services in the default namespace\n",
      "---------- k8s_agent ----------\n",
      "[FunctionCall(id='call_wUn8NVbaMGgNfEAlruIPXNFu', arguments='{\"service_name\":null,\"all_namespaces\":false,\"ns\":\"default\",\"output\":\"wide\"}', name='get_services')]\n",
      "---------- k8s_agent ----------\n",
      "[FunctionExecutionResult(content='NAME                          TYPE           CLUSTER-IP      EXTERNAL-IP    PORT(S)                         AGE     SELECTOR\\ngloo-proxy-http-gw-for-test   LoadBalancer   10.96.151.185   172.18.255.0   8080:31716/TCP,8081:31538/TCP   3d22h   app.kubernetes.io/instance=http-gw-for-test,app.kubernetes.io/name=gloo-proxy-http-gw-for-test,gateway.networking.k8s.io/gateway-name=http-gw-for-test\\nkubernetes                    ClusterIP      10.96.0.1       <none>         443/TCP                         3d22h   <none>\\n', call_id='call_wUn8NVbaMGgNfEAlruIPXNFu')]\n",
      "---------- k8s_agent ----------\n",
      "NAME                          TYPE           CLUSTER-IP      EXTERNAL-IP    PORT(S)                         AGE     SELECTOR\n",
      "gloo-proxy-http-gw-for-test   LoadBalancer   10.96.151.185   172.18.255.0   8080:31716/TCP,8081:31538/TCP   3d22h   app.kubernetes.io/instance=http-gw-for-test,app.kubernetes.io/name=gloo-proxy-http-gw-for-test,gateway.networking.k8s.io/gateway-name=http-gw-for-test\n",
      "kubernetes                    ClusterIP      10.96.0.1       <none>         443/TCP                         3d22h   <none>\n",
      "\n",
      "---------- k8s_agent ----------\n",
      "Here are the services in the 'default' namespace:\n",
      "\n",
      "1. **gloo-proxy-http-gw-for-test**\n",
      "   - **Type:** LoadBalancer\n",
      "   - **Cluster-IP:** 10.96.151.185\n",
      "   - **External-IP:** 172.18.255.0\n",
      "   - **Ports:** 8080:31716/TCP, 8081:31538/TCP\n",
      "   - **Age:** 3d22h\n",
      "   - **Selector:** app.kubernetes.io/instance=http-gw-for-test, app.kubernetes.io/name=gloo-proxy-http-gw-for-test, gateway.networking.k8s.io/gateway-name=http-gw-for-test\n",
      "\n",
      "2. **kubernetes**\n",
      "   - **Type:** ClusterIP\n",
      "   - **Cluster-IP:** 10.96.0.1\n",
      "   - **External-IP:** None\n",
      "   - **Ports:** 443/TCP\n",
      "   - **Age:** 3d22h \n",
      "\n",
      "If you need any more information or further actions, let me know!\n",
      "---------- k8s_agent ----------\n",
      "TERMINATE\n"
     ]
    },
    {
     "data": {
      "text/plain": [
       "TaskResult(messages=[TextMessage(source='user', models_usage=None, content='get all services in the default namespace', type='TextMessage'), ToolCallRequestEvent(source='k8s_agent', models_usage=RequestUsage(prompt_tokens=326, completion_tokens=30), content=[FunctionCall(id='call_wUn8NVbaMGgNfEAlruIPXNFu', arguments='{\"service_name\":null,\"all_namespaces\":false,\"ns\":\"default\",\"output\":\"wide\"}', name='get_services')], type='ToolCallRequestEvent'), ToolCallExecutionEvent(source='k8s_agent', models_usage=None, content=[FunctionExecutionResult(content='NAME                          TYPE           CLUSTER-IP      EXTERNAL-IP    PORT(S)                         AGE     SELECTOR\\ngloo-proxy-http-gw-for-test   LoadBalancer   10.96.151.185   172.18.255.0   8080:31716/TCP,8081:31538/TCP   3d22h   app.kubernetes.io/instance=http-gw-for-test,app.kubernetes.io/name=gloo-proxy-http-gw-for-test,gateway.networking.k8s.io/gateway-name=http-gw-for-test\\nkubernetes                    ClusterIP      10.96.0.1       <none>         443/TCP                         3d22h   <none>\\n', call_id='call_wUn8NVbaMGgNfEAlruIPXNFu')], type='ToolCallExecutionEvent'), ToolCallSummaryMessage(source='k8s_agent', models_usage=None, content='NAME                          TYPE           CLUSTER-IP      EXTERNAL-IP    PORT(S)                         AGE     SELECTOR\\ngloo-proxy-http-gw-for-test   LoadBalancer   10.96.151.185   172.18.255.0   8080:31716/TCP,8081:31538/TCP   3d22h   app.kubernetes.io/instance=http-gw-for-test,app.kubernetes.io/name=gloo-proxy-http-gw-for-test,gateway.networking.k8s.io/gateway-name=http-gw-for-test\\nkubernetes                    ClusterIP      10.96.0.1       <none>         443/TCP                         3d22h   <none>\\n', type='ToolCallSummaryMessage'), TextMessage(source='k8s_agent', models_usage=RequestUsage(prompt_tokens=518, completion_tokens=218), content=\"Here are the services in the 'default' namespace:\\n\\n1. **gloo-proxy-http-gw-for-test**\\n   - **Type:** LoadBalancer\\n   - **Cluster-IP:** 10.96.151.185\\n   - **External-IP:** 172.18.255.0\\n   - **Ports:** 8080:31716/TCP, 8081:31538/TCP\\n   - **Age:** 3d22h\\n   - **Selector:** app.kubernetes.io/instance=http-gw-for-test, app.kubernetes.io/name=gloo-proxy-http-gw-for-test, gateway.networking.k8s.io/gateway-name=http-gw-for-test\\n\\n2. **kubernetes**\\n   - **Type:** ClusterIP\\n   - **Cluster-IP:** 10.96.0.1\\n   - **External-IP:** None\\n   - **Ports:** 443/TCP\\n   - **Age:** 3d22h \\n\\nIf you need any more information or further actions, let me know!\", type='TextMessage'), TextMessage(source='k8s_agent', models_usage=RequestUsage(prompt_tokens=742, completion_tokens=5), content='TERMINATE', type='TextMessage')], stop_reason=\"Text 'TERMINATE' mentioned\")"
      ]
     },
     "execution_count": 1,
     "metadata": {},
     "output_type": "execute_result"
    }
   ],
   "source": [
    "from autogen_agentchat.agents import AssistantAgent\n",
    "from autogen_agentchat.conditions import MaxMessageTermination, TextMentionTermination\n",
    "from autogen_agentchat.teams import RoundRobinGroupChat\n",
    "from autogen_agentchat.ui import Console\n",
    "from autogen_ext.models.openai import OpenAIChatCompletionClient\n",
    "\n",
    "from kagent.tools.istio import ProxyConfig\n",
    "from kagent.tools.k8s import GetPods, GetServices\n",
    "\n",
    "model_client = OpenAIChatCompletionClient(\n",
    "    model=\"gpt-4o\",\n",
    ")\n",
    "\n",
    "k8s_agent = AssistantAgent(\n",
    "    \"k8s_agent\",\n",
    "    description=\"An agent for k8s operations\",\n",
    "    tools=[GetPods(), GetServices(), ProxyConfig()],\n",
    "    model_client=model_client,\n",
    "    system_message=\"\"\"\n",
    "    You are a k8s agent. You know how to interact with a Kubernetes cluster.\n",
    "\n",
    "    If you don't have any explicit tasks left to complete, return TERMINATE.\n",
    "    \"\"\",\n",
    ")\n",
    "\n",
    "\n",
    "team = RoundRobinGroupChat(\n",
    "    max_turns=3,\n",
    "    participants=[k8s_agent],\n",
    "    termination_condition=TextMentionTermination(text=\"TERMINATE\"),\n",
    ")\n",
    "\n",
    "await Console(team.run_stream(task=\"get all services in the default namespace\"))"
   ]
  }
 ],
 "metadata": {
  "kernelspec": {
   "display_name": "Python (kagent)",
   "language": "python",
   "name": "kagent-env"
  },
  "language_info": {
   "codemirror_mode": {
    "name": "ipython",
    "version": 3
   },
   "file_extension": ".py",
   "mimetype": "text/x-python",
   "name": "python",
   "nbconvert_exporter": "python",
   "pygments_lexer": "ipython3",
   "version": "3.12.9"
  }
 },
 "nbformat": 4,
 "nbformat_minor": 2
}
